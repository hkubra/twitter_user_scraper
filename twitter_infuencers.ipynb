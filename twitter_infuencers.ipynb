{
  "nbformat": 4,
  "nbformat_minor": 0,
  "metadata": {
    "colab": {
      "name": "twitter_infuencers.ipynb",
      "version": "0.3.2",
      "provenance": [],
      "collapsed_sections": [],
      "include_colab_link": true
    },
    "kernelspec": {
      "name": "python3",
      "display_name": "Python 3"
    }
  },
  "cells": [
    {
      "cell_type": "markdown",
      "metadata": {
        "id": "view-in-github",
        "colab_type": "text"
      },
      "source": [
        "<a href=\"https://colab.research.google.com/github/wxbaum/twitter_influencers_analysis/blob/master/twitter_infuencers.ipynb\" target=\"_parent\"><img src=\"https://colab.research.google.com/assets/colab-badge.svg\" alt=\"Open In Colab\"/></a>"
      ]
    },
    {
      "metadata": {
        "id": "bQkdi9K3JBx1",
        "colab_type": "code",
        "colab": {}
      },
      "cell_type": "code",
      "source": [
        "import tweepy\n",
        "import time\n",
        "import pandas as pd\n",
        "import json\n",
        "import time"
      ],
      "execution_count": 0,
      "outputs": []
    },
    {
      "metadata": {
        "id": "Z91j6XfBJSlc",
        "colab_type": "code",
        "colab": {}
      },
      "cell_type": "code",
      "source": [
        "\"\"\"\n",
        "These keys/tokens require a Twitter developer account. Sign up for a developer \n",
        "account at https://developer.twitter.com and create a new app.\n",
        "\"\"\" \n",
        "\n",
        "api_key = ''\n",
        "secret_key = ''\n",
        "access_token = ''\n",
        "secret_token = ''\n",
        "\n",
        "def authenticate(api_key, secret_key, access_token, secret_token):\n",
        "\n",
        "    auth = tweepy.OAuthHandler(api_key, secret_key)\n",
        "    auth.set_access_token(access_token, secret_token)\n",
        "    api = tweepy.API(auth)\n",
        "  \n",
        "    return api\n",
        "\n",
        "\n",
        "api = authenticate(api_key, secret_key, access_token, secret_token)"
      ],
      "execution_count": 0,
      "outputs": []
    },
    {
      "metadata": {
        "id": "_KLxo3yOjxZL",
        "colab_type": "code",
        "colab": {}
      },
      "cell_type": "code",
      "source": [
        "# Some api calls will result in a rate limit. This functions handles those if needed \n",
        "def limit_handled(cursor):\n",
        "    while True:\n",
        "        try:\n",
        "            yield cursor.next()\n",
        "        except tweepy.RateLimitError:\n",
        "            time.sleep(5)"
      ],
      "execution_count": 0,
      "outputs": []
    },
    {
      "metadata": {
        "id": "bt60eI9bEJbB",
        "colab_type": "text"
      },
      "cell_type": "markdown",
      "source": [
        "To kickstart scraping of influencer accounts, we need a starting point. Here's a top 10 list, and we'll put the account names into a list:\n",
        "https://www.brandwatch.com/blog/influential-lifestyle-bloggers/\n"
      ]
    },
    {
      "metadata": {
        "id": "kC0neajeOBOt",
        "colab_type": "code",
        "colab": {}
      },
      "cell_type": "code",
      "source": [
        "handles_list = ['StacieinAtlanta', \n",
        "                'momsreview4you',\n",
        "                'dawnchats',\n",
        "                'GiveawayBandit',\n",
        "                'daddysweeney',\n",
        "                'pennywisemama',\n",
        "                'dodomesticdad',\n",
        "                'TheTypical_Mom',\n",
        "                'Crissy',\n",
        "                'EvrydayShortcut']\n",
        "\n",
        "def get_initial_influencers(handles):\n",
        "    influencer_id_list = [api.get_user(handle).id for handle in handles_list]\n",
        "  \n",
        "    return influencer_id_list\n",
        " \n",
        "  \n",
        "    initial_influ_ids = get_initial_influencers(handles_list)"
      ],
      "execution_count": 0,
      "outputs": []
    },
    {
      "metadata": {
        "id": "arg3kdEz4x1u",
        "colab_type": "text"
      },
      "cell_type": "markdown",
      "source": [
        "We need to look for mentioned accounts that *aren't* brands. If an influencer mentioned or \n",
        "retweeted an account that doesn't look like a brand, there's a very good chance that that account is also an influencer promoting themselves or promoting their own product through other influencer channels. We'll take those accounts as influencers. "
      ]
    },
    {
      "metadata": {
        "id": "hHlsPsEVDYZ9",
        "colab_type": "code",
        "colab": {}
      },
      "cell_type": "code",
      "source": [
        "def scrape_influencers_use_google(list_contains_string):\n",
        "    from googlesearch import search\n",
        "    from random import randint as ranint\n",
        "\n",
        "    list_urls = []\n",
        "\n",
        "    urls_checked = 0\n",
        "    urls_appended = 0\n",
        "    for url in search(\"site:twitter.com \" + list_contains_string, \n",
        "                      start=urls_checked, \n",
        "                      num=10, \n",
        "                      pause=ranint(3, 5)):\n",
        "        \n",
        "        if '/lists/' in url:\n",
        "            list_urls.append(url)\n",
        "            urls_appended += 1\n",
        "            urls_checked += 1\n",
        "\n",
        "        if urls_checked / urls_appended > 5:\n",
        "            break\n",
        "            \n",
        "        elif urls_appended >= 50:\n",
        "            break\n",
        "\n",
        "        time.sleep(ranint(3, 5))\n",
        "\n",
        "    list_urls = [url[8:] for url in list_urls] # Removes leading https://\n",
        "\n",
        "    return list_urls\n",
        "  \n",
        "\n",
        "list_urls = scrape_influencers_use_google(\"lists influencers\")"
      ],
      "execution_count": 0,
      "outputs": []
    },
    {
      "metadata": {
        "id": "TrpOaZIUEOae",
        "colab_type": "code",
        "colab": {
          "base_uri": "https://localhost:8080/",
          "height": 54
        },
        "outputId": "0548f5ce-4d2d-440b-90de-81163e25b4cc"
      },
      "cell_type": "code",
      "source": [
        "print(list_urls)"
      ],
      "execution_count": 7,
      "outputs": [
        {
          "output_type": "stream",
          "text": [
            "['twitter.com/ppact/lists/feminist-influencers-list', 'twitter.com/kia/lists/celebrities-influencers', 'twitter.com/jeffbullas/lists/influencers', 'twitter.com/kimgarst/lists/influencers-on-twitter', 'twitter.com/vendhq/lists/top-50-retail-influencers', 'twitter.com/dgingiss/lists/top-25-cx-influencers', 'twitter.com/ausunlimited/lists/top-digital-influencers', 'twitter.com/marketo/lists/influencers-to-follow', 'twitter.com/ideo/lists/design-influencers', 'twitter.com/digitalmumshq/lists/sme-influencers1', 'twitter.com/mipimworld/lists/retail-top-influencers', 'twitter.com/mylessuer/lists/cio-influencers', 'twitter.com/david_perell/lists/tech-influencers', 'twitter.com/milkroundabout/lists/top-tech-influencers', 'twitter.com/guff_se/lists/lean-startup-influencers', 'twitter.com/microsoft/lists/envision-influencers', 'twitter.com/BMCSoftware/lists/cloud-influencers', 'twitter.com/vendhq/lists/top-100-influencers-2018', 'twitter.com/PwC_UK/lists/influencers', 'twitter.com/american_heart/lists/stroke-influencers', 'twitter.com/IBMPowerSystems/lists/influencers', 'twitter.com/BW_React/lists/top-scotland-influencers', 'twitter.com/mipimworld/lists/mipim-top-influencers', 'twitter.com/YvesMulkers/lists/influencers', 'twitter.com/ecdc_eu/lists/eu-influencers', 'twitter.com/travisneilson/lists/design-influencers', 'twitter.com/cognilytica/lists/data-science-influencers/members', 'twitter.com/ja_davids/lists/ibd-influencers', 'twitter.com/CISOPlatform/lists/influencers-analyst', 'twitter.com/equifaxinsights/lists/equifax-influencers', 'twitter.com/jaxlondon/lists/top-java-influencers-2018', 'twitter.com/futurpreneur/lists/influencers', 'twitter.com/i4cp/lists/top-100-hr-influencers', 'twitter.com/mercer/lists/wef17-ret-influencers', 'twitter.com/OnePulseApp/lists/fashion-influencers', 'twitter.com/participate/lists/naesp18-influencers', 'twitter.com/CRiverLabs/lists/influencers', 'twitter.com/umdpublichealth/lists/public-health-influencers', 'twitter.com/sodexocareers/lists/housekeeping-influencers', 'twitter.com/InterQuestGroup/lists/top-devops-influencers', 'twitter.com/OBEOrganic/lists/food-media-influencers', 'twitter.com/CISOPlatform/lists/influencers-author', 'twitter.com/branchmetrics/lists/influencers', 'twitter.com/ThisIsZeroHour/lists/climate-influencers', 'twitter.com/villagecapital/lists/key-influencers-health', 'twitter.com/PureStorage/lists/ai-top-100-influencers', 'twitter.com/OnePulseApp/lists/beauty-influencers', 'twitter.com/OnePulseApp/lists/pr-influencers', 'twitter.com/BMCSoftware/lists/itsm-influencers', 'twitter.com/brennermichael/lists/b2b-marketing-influencers']\n"
          ],
          "name": "stdout"
        }
      ]
    },
    {
      "metadata": {
        "id": "tSSWgKTCi-0A",
        "colab_type": "code",
        "colab": {}
      },
      "cell_type": "code",
      "source": [
        "# Get user id, screen name, bio, follower count\n",
        "\n",
        "def get_users_in_lists(influencer_lists):\n",
        "  \n",
        "    users_list = []\n",
        "    bios_list = []\n",
        "    desc_list = []\n",
        "    follower_count_list = []\n",
        "    \n",
        "    for tw_list in influencer_lists:\n",
        "    \n",
        "        user = tw_list.split('/')[1]\n",
        "        list_name = tw_list.split('/')[3]\n",
        "\n",
        "        list_members_output = api.list_members(user, list_name)\n",
        "\n",
        "        for user_id in list_members_output:\n",
        "            users_list.append(user_id._json['id'])\n",
        "            bios_list.append(user_id._json['screen_name'])\n",
        "            desc_list.append(user_id._json['description'])\n",
        "            follower_count_list.append(user_id._json['followers_count'])\n",
        "            \n",
        "    zipped_data = zip(users_list, bios_list, desc_list, follower_count_list)\n",
        "    output_df = pd.DataFrame(list(zipped_data), columns=['user_id', \n",
        "                                                         'screen_name',\n",
        "                                                         'bio',\n",
        "                                                         'followers'])\n",
        "\n",
        "    return output_df\n",
        "  \n",
        "\n",
        "influencers_df = get_users_in_lists(list_urls)"
      ],
      "execution_count": 0,
      "outputs": []
    },
    {
      "metadata": {
        "id": "vZbjS6kuSfwm",
        "colab_type": "code",
        "colab": {
          "base_uri": "https://localhost:8080/",
          "height": 204
        },
        "outputId": "db64c193-a3d3-4b18-8cee-b60817463e1d"
      },
      "cell_type": "code",
      "source": [
        "influencers_df.head()"
      ],
      "execution_count": 25,
      "outputs": [
        {
          "output_type": "execute_result",
          "data": {
            "text/html": [
              "<div>\n",
              "<style scoped>\n",
              "    .dataframe tbody tr th:only-of-type {\n",
              "        vertical-align: middle;\n",
              "    }\n",
              "\n",
              "    .dataframe tbody tr th {\n",
              "        vertical-align: top;\n",
              "    }\n",
              "\n",
              "    .dataframe thead th {\n",
              "        text-align: right;\n",
              "    }\n",
              "</style>\n",
              "<table border=\"1\" class=\"dataframe\">\n",
              "  <thead>\n",
              "    <tr style=\"text-align: right;\">\n",
              "      <th></th>\n",
              "      <th>user_id</th>\n",
              "      <th>screen_name</th>\n",
              "      <th>bio</th>\n",
              "      <th>followers</th>\n",
              "    </tr>\n",
              "  </thead>\n",
              "  <tbody>\n",
              "    <tr>\n",
              "      <th>0</th>\n",
              "      <td>411194625</td>\n",
              "      <td>RBraceySherman</td>\n",
              "      <td>Black Feminist • 👩🏽‍💻 @AbortionFunds @Abortion...</td>\n",
              "      <td>16676</td>\n",
              "    </tr>\n",
              "    <tr>\n",
              "      <th>1</th>\n",
              "      <td>272191896</td>\n",
              "      <td>SarahEMcBride</td>\n",
              "      <td>Author of Tomorrow Will Be Different, Nat'l Pr...</td>\n",
              "      <td>46901</td>\n",
              "    </tr>\n",
              "    <tr>\n",
              "      <th>2</th>\n",
              "      <td>271725689</td>\n",
              "      <td>iamsambee</td>\n",
              "      <td>Alleged humorist.</td>\n",
              "      <td>515025</td>\n",
              "    </tr>\n",
              "    <tr>\n",
              "      <th>3</th>\n",
              "      <td>267915933</td>\n",
              "      <td>feministabulous</td>\n",
              "      <td>host of vox media’s consider it | pre-order my...</td>\n",
              "      <td>136544</td>\n",
              "    </tr>\n",
              "    <tr>\n",
              "      <th>4</th>\n",
              "      <td>260959284</td>\n",
              "      <td>KathaPollitt</td>\n",
              "      <td>Politics, poetry, feminism, books, life.  New ...</td>\n",
              "      <td>20114</td>\n",
              "    </tr>\n",
              "  </tbody>\n",
              "</table>\n",
              "</div>"
            ],
            "text/plain": [
              "     user_id      screen_name  \\\n",
              "0  411194625   RBraceySherman   \n",
              "1  272191896    SarahEMcBride   \n",
              "2  271725689        iamsambee   \n",
              "3  267915933  feministabulous   \n",
              "4  260959284     KathaPollitt   \n",
              "\n",
              "                                                 bio  followers  \n",
              "0  Black Feminist • 👩🏽‍💻 @AbortionFunds @Abortion...      16676  \n",
              "1  Author of Tomorrow Will Be Different, Nat'l Pr...      46901  \n",
              "2                                  Alleged humorist.     515025  \n",
              "3  host of vox media’s consider it | pre-order my...     136544  \n",
              "4  Politics, poetry, feminism, books, life.  New ...      20114  "
            ]
          },
          "metadata": {
            "tags": []
          },
          "execution_count": 25
        }
      ]
    }
  ]
}