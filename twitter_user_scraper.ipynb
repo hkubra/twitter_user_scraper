{
  "nbformat": 4,
  "nbformat_minor": 0,
  "metadata": {
    "colab": {
      "name": "twitter_user_scraper.ipynb",
      "version": "0.3.2",
      "provenance": [],
      "collapsed_sections": [],
      "include_colab_link": true
    },
    "kernelspec": {
      "name": "python3",
      "display_name": "Python 3"
    }
  },
  "cells": [
    {
      "cell_type": "markdown",
      "metadata": {
        "id": "view-in-github",
        "colab_type": "text"
      },
      "source": [
        "<a href=\"https://colab.research.google.com/github/wxbaum/twitter_user_scraper/blob/master/twitter_user_scraper.ipynb\" target=\"_parent\"><img src=\"https://colab.research.google.com/assets/colab-badge.svg\" alt=\"Open In Colab\"/></a>"
      ]
    },
    {
      "metadata": {
        "id": "xMW5RIhrJfq4",
        "colab_type": "text"
      },
      "cell_type": "markdown",
      "source": [
        "# A Scraper for Twitter User Data \n",
        "\n",
        "Utilizing the googlesearch module with Tweepy."
      ]
    },
    {
      "metadata": {
        "id": "bQkdi9K3JBx1",
        "colab_type": "code",
        "colab": {}
      },
      "cell_type": "code",
      "source": [
        "import tweepy\n",
        "import time\n",
        "import pandas as pd\n",
        "import numpy as np\n",
        "import json\n",
        "import time\n",
        "from random import randint, random"
      ],
      "execution_count": 0,
      "outputs": []
    },
    {
      "metadata": {
        "id": "Z91j6XfBJSlc",
        "colab_type": "code",
        "colab": {}
      },
      "cell_type": "code",
      "source": [
        "\"\"\"\n",
        "These keys/tokens require a Twitter developer account. Sign up for a developer \n",
        "account at https://developer.twitter.com and create a new app.\n",
        "\"\"\" \n",
        "\n",
        "api_key = 'aoGosXnGsr6KM1VHpISICxRPI'\n",
        "secret_key = 'fEyygkhWQK6aaIHqONLdPhhRs4hvqrgyZu3OuWE6PCo2bUXQus'\n",
        "access_token = '141198705-IlSTJwpgWm5PrOPbpO35pRJv5OxIAAu8b67Alo9j'\n",
        "secret_token = 'd4yu7qhV80Wn2gXKDHuLJ3mb1osEYH88ck91mIWbkBC9a'\n",
        "\n",
        "def authenticate(api_key, secret_key, access_token, secret_token):\n",
        "\n",
        "    auth = tweepy.OAuthHandler(api_key, secret_key)\n",
        "    auth.set_access_token(access_token, secret_token)\n",
        "    api = tweepy.API(auth, \n",
        "                     wait_on_rate_limit=True, \n",
        "                     wait_on_rate_limit_notify=True)\n",
        "  \n",
        "    return api\n",
        "\n",
        "\n",
        "api = authenticate(api_key, secret_key, access_token, secret_token)"
      ],
      "execution_count": 0,
      "outputs": []
    },
    {
      "metadata": {
        "id": "_KLxo3yOjxZL",
        "colab_type": "code",
        "colab": {}
      },
      "cell_type": "code",
      "source": [
        "# Some api calls will result in a rate limit. This functions handles those if needed \n",
        "def limit_handled(cursor):\n",
        "    \n",
        "    while True:\n",
        "        try:\n",
        "            yield cursor.next()\n",
        "        except tweepy.RateLimitError:\n",
        "            time.sleep(2)\n",
        "            continue"
      ],
      "execution_count": 0,
      "outputs": []
    },
    {
      "metadata": {
        "id": "hHlsPsEVDYZ9",
        "colab_type": "code",
        "colab": {}
      },
      "cell_type": "code",
      "source": [
        "def scrape_influencers_use_google(list_contains_string):\n",
        "    \n",
        "    from googlesearch import search\n",
        "    from random import randint\n",
        "\n",
        "    list_urls = []\n",
        "\n",
        "    urls_checked = 0\n",
        "    urls_appended = 0\n",
        "    for url in search(\"site:twitter.com \" + list_contains_string, \n",
        "                      start=urls_checked, \n",
        "                      num=10, \n",
        "                      pause=randint(3, 5)):\n",
        "        \n",
        "        if '/lists/' in url:\n",
        "            list_urls.append(url)\n",
        "            urls_appended += 1\n",
        "            urls_checked += 1\n",
        "\n",
        "        if urls_checked / urls_appended > 5:\n",
        "            break\n",
        "            \n",
        "        elif urls_appended >= 50:\n",
        "            break\n",
        "\n",
        "        time.sleep(randint(3, 5))\n",
        "\n",
        "    list_urls = [url[8:] for url in list_urls] # Removes leading https://\n",
        "\n",
        "    return list_urls\n",
        "  \n",
        "\n",
        "list_urls = scrape_influencers_use_google(\"lists influencers\")"
      ],
      "execution_count": 0,
      "outputs": []
    },
    {
      "metadata": {
        "id": "tSSWgKTCi-0A",
        "colab_type": "code",
        "colab": {}
      },
      "cell_type": "code",
      "source": [
        "# Get user id, screen name, bio, follower count\n",
        "\n",
        "def get_users_in_lists(influencer_lists):\n",
        "  \n",
        "    users_list = []\n",
        "    bios_list = []\n",
        "    desc_list = []\n",
        "    follower_count_list = []\n",
        "    \n",
        "    for tw_list in influencer_lists:\n",
        "    \n",
        "        user = tw_list.split('/')[1]\n",
        "        list_name = tw_list.split('/')[3]\n",
        "\n",
        "        list_members_output = api.list_members(user, list_name)\n",
        "\n",
        "        for user_id in list_members_output:\n",
        "            users_list.append(user_id._json['id'])\n",
        "            bios_list.append(user_id._json['screen_name'])\n",
        "            desc_list.append(user_id._json['description'])\n",
        "            follower_count_list.append(user_id._json['followers_count'])\n",
        "            \n",
        "    zipped_data = zip(users_list, bios_list, desc_list, follower_count_list)\n",
        "    output_df = pd.DataFrame(list(zipped_data), columns=['user_id', \n",
        "                                                         'screen_name',\n",
        "                                                         'bio',\n",
        "                                                         'followers'])\n",
        "    output_df.set_index('user_id', inplace=True)\n",
        "    \n",
        "    return output_df\n",
        "  \n",
        "\n",
        "influencers_df = get_users_in_lists(list_urls)"
      ],
      "execution_count": 0,
      "outputs": []
    },
    {
      "metadata": {
        "id": "vZbjS6kuSfwm",
        "colab_type": "code",
        "colab": {
          "base_uri": "https://localhost:8080/",
          "height": 235
        },
        "outputId": "4dae708c-fd1b-4b9d-fb11-d28f4f5c5f56"
      },
      "cell_type": "code",
      "source": [
        "influencers_df.head()"
      ],
      "execution_count": 65,
      "outputs": [
        {
          "output_type": "execute_result",
          "data": {
            "text/html": [
              "<div>\n",
              "<style scoped>\n",
              "    .dataframe tbody tr th:only-of-type {\n",
              "        vertical-align: middle;\n",
              "    }\n",
              "\n",
              "    .dataframe tbody tr th {\n",
              "        vertical-align: top;\n",
              "    }\n",
              "\n",
              "    .dataframe thead th {\n",
              "        text-align: right;\n",
              "    }\n",
              "</style>\n",
              "<table border=\"1\" class=\"dataframe\">\n",
              "  <thead>\n",
              "    <tr style=\"text-align: right;\">\n",
              "      <th></th>\n",
              "      <th>screen_name</th>\n",
              "      <th>bio</th>\n",
              "      <th>followers</th>\n",
              "    </tr>\n",
              "    <tr>\n",
              "      <th>user_id</th>\n",
              "      <th></th>\n",
              "      <th></th>\n",
              "      <th></th>\n",
              "    </tr>\n",
              "  </thead>\n",
              "  <tbody>\n",
              "    <tr>\n",
              "      <th>411194625</th>\n",
              "      <td>RBraceySherman</td>\n",
              "      <td>Black Feminist • 👩🏽‍💻 @AbortionFunds @Abortion...</td>\n",
              "      <td>16675</td>\n",
              "    </tr>\n",
              "    <tr>\n",
              "      <th>272191896</th>\n",
              "      <td>SarahEMcBride</td>\n",
              "      <td>Author of Tomorrow Will Be Different, Nat'l Pr...</td>\n",
              "      <td>46902</td>\n",
              "    </tr>\n",
              "    <tr>\n",
              "      <th>271725689</th>\n",
              "      <td>iamsambee</td>\n",
              "      <td>Alleged humorist.</td>\n",
              "      <td>515031</td>\n",
              "    </tr>\n",
              "    <tr>\n",
              "      <th>267915933</th>\n",
              "      <td>feministabulous</td>\n",
              "      <td>host of vox media’s consider it | pre-order my...</td>\n",
              "      <td>136561</td>\n",
              "    </tr>\n",
              "    <tr>\n",
              "      <th>260959284</th>\n",
              "      <td>KathaPollitt</td>\n",
              "      <td>Politics, poetry, feminism, books, life.  New ...</td>\n",
              "      <td>20114</td>\n",
              "    </tr>\n",
              "  </tbody>\n",
              "</table>\n",
              "</div>"
            ],
            "text/plain": [
              "               screen_name                                                bio  \\\n",
              "user_id                                                                         \n",
              "411194625   RBraceySherman  Black Feminist • 👩🏽‍💻 @AbortionFunds @Abortion...   \n",
              "272191896    SarahEMcBride  Author of Tomorrow Will Be Different, Nat'l Pr...   \n",
              "271725689        iamsambee                                  Alleged humorist.   \n",
              "267915933  feministabulous  host of vox media’s consider it | pre-order my...   \n",
              "260959284     KathaPollitt  Politics, poetry, feminism, books, life.  New ...   \n",
              "\n",
              "           followers  \n",
              "user_id               \n",
              "411194625      16675  \n",
              "272191896      46902  \n",
              "271725689     515031  \n",
              "267915933     136561  \n",
              "260959284      20114  "
            ]
          },
          "metadata": {
            "tags": []
          },
          "execution_count": 65
        }
      ]
    },
    {
      "metadata": {
        "id": "nh8Gr_O-_Xdi",
        "colab_type": "text"
      },
      "cell_type": "markdown",
      "source": [
        "Accounts which are protected will not be accessible for the majority of Tweepy user object functionality. These need to be removed. \n",
        "\n",
        "When the API connection was built at the start of the script, the wait_on_rate_limit and wait_on_rate_limit_notify parameters were set to true. While those will catch a wait limit error, notify us, and go again when ready, this function checks a lot of users very quickly and will hit the rate limit most of the time if left alone. A sleep timer for each user has been set as a random float up to 0.2 (representing sleep up to 0.2s). This will not prevent rate limit errors 100% of the time but strikes a balance between error prevention and run time. \n",
        "\n",
        "Run time for this function is as such maximized at 0.2 * n_users seconds.\n"
      ]
    },
    {
      "metadata": {
        "id": "F_W70DGAbJUX",
        "colab_type": "code",
        "colab": {}
      },
      "cell_type": "code",
      "source": [
        "def remove_protected_accounts(users_df):\n",
        "    \n",
        "    working_df = users_df.copy()\n",
        "    protected_ids = []\n",
        "    \n",
        "    counter = 0\n",
        "    for index, row in users_df.iterrows():\n",
        "        user = api.get_user(id=index)._json\n",
        "        if user['protected'] == True:\n",
        "            protected_ids.append(index)\n",
        "        counter += 1\n",
        "        if counter % 100 == 0:\n",
        "            print(str(counter) + '/' + str(len(working_df)) + ' IDs checked')\n",
        "            print('Protected IDs found:', len(protected_ids), '\\n')\n",
        "        # Sleeping for up to 0.2s helps not to exceed Tweepy's rate limit.\n",
        "        time.sleep(random() / 5)\n",
        "    \n",
        "    print('Orignal number of users:', len(working_df))\n",
        "    working_df.drop(labels=protected_ids, inplace=True)\n",
        "    print('Modified number of users:', len(working_df))\n",
        "    \n",
        "    working_df.reset_index(inplace=True)\n",
        "            \n",
        "    return working_df\n",
        "            \n",
        "\n",
        "influencers_df = remove_protected_accounts(influencers_df)"
      ],
      "execution_count": 0,
      "outputs": []
    },
    {
      "metadata": {
        "id": "GTlVXskl176A",
        "colab_type": "text"
      },
      "cell_type": "markdown",
      "source": [
        "Now protected accounts have been removed, engagements with users' tweets can be examined. We can't access actual impressions for tweets, but we can access some engagement actions with tweets. By looking at engagement actions in relation to the number of followers a user has, we can see how much their audience is engaged with their content. \n",
        "\n",
        "As we've been looking at influencers for the purposes of this script, we can get a fairly good measurement of how effective an influencer might be by looking at metrics like this. \n",
        "\n",
        "Certain things require a closer look. For example, there are some celebrities in the influencer lists. It's a fair hypothesis that celebrities have an inhenrently more engaged audience, so insights like that considered. For a more business level insight, we could see if there is a follower count sweet spot, or if money spent on influencers vs user engagement has a linear, exponential, or logarithmic signature. "
      ]
    },
    {
      "metadata": {
        "id": "0fPlPDdVZOzz",
        "colab_type": "code",
        "colab": {}
      },
      "cell_type": "code",
      "source": [
        "def calc_median_favorites(user_id):\n",
        "    \n",
        "    fav_list = []\n",
        "    tweets = api.user_timeline(id=user_id, count=100)\n",
        "    \n",
        "    for tweet in tweets:\n",
        "        if tweet._json['text'].startswith('RT'):\n",
        "            continue\n",
        "        else:\n",
        "            fav_list.append(tweet._json['favorite_count'])\n",
        "    \n",
        "    time.sleep(random() / 5)\n",
        "    \n",
        "    return np.median(fav_list)  \n",
        "\n",
        "\n",
        "influencers_df['median_favs'] = influencers_df['user_id'].apply(lambda x: calc_median_favorites(x))"
      ],
      "execution_count": 0,
      "outputs": []
    },
    {
      "metadata": {
        "id": "1apvWYVwalN9",
        "colab_type": "code",
        "colab": {}
      },
      "cell_type": "code",
      "source": [
        "def calc_median_retweets(user_id):\n",
        "    \n",
        "    rt_list = []\n",
        "    tweets = api.user_timeline(id=user_id, count=100)\n",
        "    \n",
        "    for tweet in tweets:\n",
        "        if tweet._json['text'].startswith('RT'):\n",
        "            continue\n",
        "        else:\n",
        "            rt_list.append(tweet._json['retweet_count'])\n",
        "    \n",
        "    time.sleep(random() / 5)\n",
        "    \n",
        "    return np.median(rt_list)  \n",
        "\n",
        "\n",
        "influencers_df['median_rts'] = influencers_df['user_id'].apply(lambda x: calc_median_retweets(x))"
      ],
      "execution_count": 0,
      "outputs": []
    },
    {
      "metadata": {
        "id": "35abBVjAVTlf",
        "colab_type": "code",
        "colab": {
          "base_uri": "https://localhost:8080/",
          "height": 204
        },
        "outputId": "4dfc50e7-9b1d-4a17-cd7c-163c97f62aec"
      },
      "cell_type": "code",
      "source": [
        "influencers_df.head()"
      ],
      "execution_count": 132,
      "outputs": [
        {
          "output_type": "execute_result",
          "data": {
            "text/html": [
              "<div>\n",
              "<style scoped>\n",
              "    .dataframe tbody tr th:only-of-type {\n",
              "        vertical-align: middle;\n",
              "    }\n",
              "\n",
              "    .dataframe tbody tr th {\n",
              "        vertical-align: top;\n",
              "    }\n",
              "\n",
              "    .dataframe thead th {\n",
              "        text-align: right;\n",
              "    }\n",
              "</style>\n",
              "<table border=\"1\" class=\"dataframe\">\n",
              "  <thead>\n",
              "    <tr style=\"text-align: right;\">\n",
              "      <th></th>\n",
              "      <th>user_id</th>\n",
              "      <th>screen_name</th>\n",
              "      <th>bio</th>\n",
              "      <th>followers</th>\n",
              "      <th>median_favs</th>\n",
              "      <th>median_rts</th>\n",
              "    </tr>\n",
              "  </thead>\n",
              "  <tbody>\n",
              "    <tr>\n",
              "      <th>0</th>\n",
              "      <td>411194625</td>\n",
              "      <td>RBraceySherman</td>\n",
              "      <td>Black Feminist • 👩🏽‍💻 @AbortionFunds @Abortion...</td>\n",
              "      <td>16675</td>\n",
              "      <td>5.0</td>\n",
              "      <td>1.0</td>\n",
              "    </tr>\n",
              "    <tr>\n",
              "      <th>1</th>\n",
              "      <td>272191896</td>\n",
              "      <td>SarahEMcBride</td>\n",
              "      <td>Author of Tomorrow Will Be Different, Nat'l Pr...</td>\n",
              "      <td>46902</td>\n",
              "      <td>9.0</td>\n",
              "      <td>0.0</td>\n",
              "    </tr>\n",
              "    <tr>\n",
              "      <th>2</th>\n",
              "      <td>271725689</td>\n",
              "      <td>iamsambee</td>\n",
              "      <td>Alleged humorist.</td>\n",
              "      <td>515031</td>\n",
              "      <td>411.0</td>\n",
              "      <td>44.0</td>\n",
              "    </tr>\n",
              "    <tr>\n",
              "      <th>3</th>\n",
              "      <td>267915933</td>\n",
              "      <td>feministabulous</td>\n",
              "      <td>host of vox media’s consider it | pre-order my...</td>\n",
              "      <td>136561</td>\n",
              "      <td>16.0</td>\n",
              "      <td>0.0</td>\n",
              "    </tr>\n",
              "    <tr>\n",
              "      <th>4</th>\n",
              "      <td>260959284</td>\n",
              "      <td>KathaPollitt</td>\n",
              "      <td>Politics, poetry, feminism, books, life.  New ...</td>\n",
              "      <td>20114</td>\n",
              "      <td>1.5</td>\n",
              "      <td>0.0</td>\n",
              "    </tr>\n",
              "  </tbody>\n",
              "</table>\n",
              "</div>"
            ],
            "text/plain": [
              "     user_id      screen_name  \\\n",
              "0  411194625   RBraceySherman   \n",
              "1  272191896    SarahEMcBride   \n",
              "2  271725689        iamsambee   \n",
              "3  267915933  feministabulous   \n",
              "4  260959284     KathaPollitt   \n",
              "\n",
              "                                                 bio  followers  median_favs  \\\n",
              "0  Black Feminist • 👩🏽‍💻 @AbortionFunds @Abortion...      16675          5.0   \n",
              "1  Author of Tomorrow Will Be Different, Nat'l Pr...      46902          9.0   \n",
              "2                                  Alleged humorist.     515031        411.0   \n",
              "3  host of vox media’s consider it | pre-order my...     136561         16.0   \n",
              "4  Politics, poetry, feminism, books, life.  New ...      20114          1.5   \n",
              "\n",
              "   median_rts  \n",
              "0         1.0  \n",
              "1         0.0  \n",
              "2        44.0  \n",
              "3         0.0  \n",
              "4         0.0  "
            ]
          },
          "metadata": {
            "tags": []
          },
          "execution_count": 132
        }
      ]
    },
    {
      "metadata": {
        "id": "4pgOyK1p3nt1",
        "colab_type": "code",
        "colab": {}
      },
      "cell_type": "code",
      "source": [
        ""
      ],
      "execution_count": 0,
      "outputs": []
    }
  ]
}