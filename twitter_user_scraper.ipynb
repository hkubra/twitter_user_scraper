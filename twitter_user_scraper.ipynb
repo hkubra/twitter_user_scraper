{
  "nbformat": 4,
  "nbformat_minor": 0,
  "metadata": {
    "colab": {
      "name": "twitter_user_scraper.ipynb",
      "version": "0.3.2",
      "provenance": [],
      "collapsed_sections": []
    },
    "kernelspec": {
      "name": "python3",
      "display_name": "Python 3"
    }
  },
  "cells": [
    {
      "metadata": {
        "id": "xMW5RIhrJfq4",
        "colab_type": "text"
      },
      "cell_type": "markdown",
      "source": [
        "# A Scraper for Twitter User Data \n",
        "\n",
        "This project utilizes the googlesearch module with Tweepy to create a dataset of Twitter users, sourced from user-generated Twitter lists that match a given keyword. By using lists like so, we can bulk identify accounts that match a keyword without having to trawl through user attributes like bios. Tweepy allows access to a plethora of user/status/list data, so once lists and the users contained in the lists have been scraped, the breadth of data that can be collected is expansive. \n",
        "\n",
        "For demonstration purposes, the project here pulls in favorite and retweet actions and creates a measurement of engagement for each user collected. \n",
        "\n",
        "This script takes several minutes to run, depending on how intensive the Google search and Twitter API requests are. For Google, a conservative random sleep timer is used to best prevent timeouts. For Twitter, the API is instantiated using wait_on_rate_limit=True, meaning that if the API's wait limit is exceeded, the function will wait until the API is available again rather than throwing an error. \n",
        "\n",
        "The project requires access to Twitter's API, so you will need to a developer account with Twitter. Set up an account and project here for free: https://developer.twitter.com/en/apply-for-access.\n",
        "\n",
        "The googlesearch module requires installation. Retrieve it here: https://github.com/MarioVilas/googlesearch. \n",
        "\n",
        "Notes:\n",
        "- The results_to_obtain parameter for scrape_influencers_use_google() is currently set to 50. Increase the number to retrieve more lists and more users. If the number is increased significantly, set the sleep time between each URL to a longer period to prevent being locked out by Google. \n",
        "- The list_contains_string parameter is the keyword you will use to search for lists. \n",
        "\n"
      ]
    },
    {
      "metadata": {
        "id": "bQkdi9K3JBx1",
        "colab_type": "code",
        "colab": {}
      },
      "cell_type": "code",
      "source": [
        "# Module imports \n",
        "import tweepy\n",
        "import time\n",
        "import pandas as pd\n",
        "import numpy as np\n",
        "import json\n",
        "import time\n",
        "from random import randint, random\n",
        "import matplotlib.pyplot as plt\n",
        "import seaborn as sns\n",
        "%matplotlib inline"
      ],
      "execution_count": 0,
      "outputs": []
    },
    {
      "metadata": {
        "id": "gqg7pcHspJ98",
        "colab_type": "text"
      },
      "cell_type": "markdown",
      "source": [
        "Authenticating to Twitter and creating the API connection.\n",
        "\n",
        "Assign the keys for your Twitter developer account to the approriate variables. "
      ]
    },
    {
      "metadata": {
        "id": "Z91j6XfBJSlc",
        "colab_type": "code",
        "colab": {}
      },
      "cell_type": "code",
      "source": [
        "api_key = 'TLrX8jNf6ULiW1UycbyosxXAI'\n",
        "secret_key = 'rzPfJ3W5olSJX7Wi4V4dddwrBIiEmgr4y0JJn6LAd3GyScd3G5'\n",
        "access_token = '141198705-WntDOw6DkuEniELqj38TB2h5iTWkux8zD6fg7jRu'\n",
        "secret_token = 'KzKqBnqWapcTBsyiJJ3lgNCRkqDr0YIE0znAio5jNO1HZ'\n",
        "\n",
        "def authenticate(api_key, secret_key, access_token, secret_token):\n",
        "\n",
        "    auth = tweepy.OAuthHandler(api_key, secret_key)\n",
        "    auth.set_access_token(access_token, secret_token)\n",
        "    api = tweepy.API(auth, \n",
        "                     wait_on_rate_limit=True, \n",
        "                     wait_on_rate_limit_notify=True)\n",
        "  \n",
        "    return api\n",
        "\n",
        "\n",
        "api = authenticate(api_key, secret_key, access_token, secret_token)"
      ],
      "execution_count": 0,
      "outputs": []
    },
    {
      "metadata": {
        "id": "2vWZeBZZo8FC",
        "colab_type": "text"
      },
      "cell_type": "markdown",
      "source": [
        "Some api calls will result in a rate limit error. While this script in it's current iteration does not require this now, the function below will handle those if needed for any Tweepy requests. "
      ]
    },
    {
      "metadata": {
        "id": "_KLxo3yOjxZL",
        "colab_type": "code",
        "colab": {}
      },
      "cell_type": "code",
      "source": [
        "def limit_handled(cursor):\n",
        "    \n",
        "    while True:\n",
        "        try:\n",
        "            yield cursor.next()\n",
        "        except tweepy.RateLimitError:\n",
        "            time.sleep(2)\n",
        "            continue"
      ],
      "execution_count": 0,
      "outputs": []
    },
    {
      "metadata": {
        "id": "wa_p7hr_pWml",
        "colab_type": "text"
      },
      "cell_type": "markdown",
      "source": [
        "Parameter notes:\n",
        "- list_contains_string - the list keyword to search for\n",
        "- results to obtain - number of results to be recorded\n",
        "\n",
        "Requesting a large number of results will likely cause Google to temporarily prevent access. "
      ]
    },
    {
      "metadata": {
        "id": "hHlsPsEVDYZ9",
        "colab_type": "code",
        "colab": {}
      },
      "cell_type": "code",
      "source": [
        "\n",
        "def scrape_influencers_use_google(list_contains_string, results_to_obtain):\n",
        "    \n",
        "    from googlesearch import search\n",
        "\n",
        "    list_urls = []\n",
        "\n",
        "    urls_checked = 0\n",
        "    urls_appended = 0\n",
        "    \n",
        "    # Perform the Google search, checking only the twitter.com domain\n",
        "    for url in search(\"site:twitter.com lists \" + list_contains_string, \n",
        "                      start=urls_checked, \n",
        "                      num=10, \n",
        "                      pause=randint(3, 5)):\n",
        "        \n",
        "        # Take URLs that contain Twitter's '/lists' subdomain\n",
        "        if '/lists/' in url:\n",
        "            list_urls.append(url)\n",
        "            urls_appended += 1\n",
        "            urls_checked += 1\n",
        "\n",
        "        # If Google is returning 5x as many non-list results as lists, break search\n",
        "        if urls_checked / urls_appended > 5:\n",
        "            break\n",
        "        \n",
        "        # If we reach our results # request limit, break the search\n",
        "        elif urls_appended >= results_to_obtain:\n",
        "            break\n",
        "        \n",
        "        # Sleep to prevent timeouts\n",
        "        time.sleep(randint(3, 5))\n",
        "\n",
        "    list_urls = [url[8:] for url in list_urls] # Removes leading https://\n",
        "\n",
        "    return list_urls\n",
        "  \n",
        "\n",
        "list_urls = scrape_influencers_use_google(\"influencers\", 10)"
      ],
      "execution_count": 0,
      "outputs": []
    },
    {
      "metadata": {
        "id": "7nYmaoiCre3V",
        "colab_type": "text"
      },
      "cell_type": "markdown",
      "source": [
        "Getting the individual users and associated attributes is made easy with Tweepy. Using the API created earlier, this function returns a dataframe of individual users and associated Twitter attributes. "
      ]
    },
    {
      "metadata": {
        "id": "tSSWgKTCi-0A",
        "colab_type": "code",
        "colab": {}
      },
      "cell_type": "code",
      "source": [
        "# Get user id, screen name, bio, follower count\n",
        "\n",
        "def get_users_in_lists(list_urls):\n",
        "  \n",
        "    users_list = []\n",
        "    bios_list = []\n",
        "    desc_list = []\n",
        "    follower_count_list = []\n",
        "    \n",
        "    for tw_list in list_urls:\n",
        "    \n",
        "        user = tw_list.split('/')[1]\n",
        "        list_name = tw_list.split('/')[3]\n",
        "\n",
        "        # Using Tweepy api, getting json of all users in list\n",
        "        list_members_output = api.list_members(user, list_name)\n",
        "\n",
        "        # Parsing json data and appending to appropriate lists instantiated above\n",
        "        for user_id in list_members_output:\n",
        "            users_list.append(user_id._json['id'])\n",
        "            bios_list.append(user_id._json['screen_name'])\n",
        "            desc_list.append(user_id._json['description'])\n",
        "            follower_count_list.append(user_id._json['followers_count'])\n",
        "            \n",
        "    zipped_data = zip(users_list, bios_list, desc_list, follower_count_list)\n",
        "    \n",
        "    # Creates a pandas dataframe containing user attributes\n",
        "    output_df = pd.DataFrame(list(zipped_data), columns=['user_id', \n",
        "                                                         'screen_name',\n",
        "                                                         'bio',\n",
        "                                                         'followers'])\n",
        "    # Dropping duplicate users if they were in multiple lists\n",
        "    output_df.drop_duplicates('user_id')\n",
        "    \n",
        "    output_df.set_index('user_id', inplace=True)\n",
        "    \n",
        "    return output_df\n",
        "  \n",
        "\n",
        "influencers_df = get_users_in_lists(list_urls)"
      ],
      "execution_count": 0,
      "outputs": []
    },
    {
      "metadata": {
        "id": "vZbjS6kuSfwm",
        "colab_type": "code",
        "outputId": "575ca125-e98a-4f98-ba53-8735dabe02dd",
        "colab": {
          "base_uri": "https://localhost:8080/",
          "height": 235
        }
      },
      "cell_type": "code",
      "source": [
        "influencers_df.head()"
      ],
      "execution_count": 21,
      "outputs": [
        {
          "output_type": "execute_result",
          "data": {
            "text/html": [
              "<div>\n",
              "<style scoped>\n",
              "    .dataframe tbody tr th:only-of-type {\n",
              "        vertical-align: middle;\n",
              "    }\n",
              "\n",
              "    .dataframe tbody tr th {\n",
              "        vertical-align: top;\n",
              "    }\n",
              "\n",
              "    .dataframe thead th {\n",
              "        text-align: right;\n",
              "    }\n",
              "</style>\n",
              "<table border=\"1\" class=\"dataframe\">\n",
              "  <thead>\n",
              "    <tr style=\"text-align: right;\">\n",
              "      <th></th>\n",
              "      <th>screen_name</th>\n",
              "      <th>bio</th>\n",
              "      <th>followers</th>\n",
              "    </tr>\n",
              "    <tr>\n",
              "      <th>user_id</th>\n",
              "      <th></th>\n",
              "      <th></th>\n",
              "      <th></th>\n",
              "    </tr>\n",
              "  </thead>\n",
              "  <tbody>\n",
              "    <tr>\n",
              "      <th>411194625</th>\n",
              "      <td>RBraceySherman</td>\n",
              "      <td>Black Feminist • 👩🏽‍💻 @AbortionFunds @Abortion...</td>\n",
              "      <td>16681</td>\n",
              "    </tr>\n",
              "    <tr>\n",
              "      <th>272191896</th>\n",
              "      <td>SarahEMcBride</td>\n",
              "      <td>Author of Tomorrow Will Be Different, Nat'l Pr...</td>\n",
              "      <td>46890</td>\n",
              "    </tr>\n",
              "    <tr>\n",
              "      <th>271725689</th>\n",
              "      <td>iamsambee</td>\n",
              "      <td>Alleged humorist.</td>\n",
              "      <td>515000</td>\n",
              "    </tr>\n",
              "    <tr>\n",
              "      <th>267915933</th>\n",
              "      <td>feministabulous</td>\n",
              "      <td>host of vox media’s consider it | pre-order my...</td>\n",
              "      <td>136635</td>\n",
              "    </tr>\n",
              "    <tr>\n",
              "      <th>260959284</th>\n",
              "      <td>KathaPollitt</td>\n",
              "      <td>Politics, poetry, feminism, books, life.  New ...</td>\n",
              "      <td>20118</td>\n",
              "    </tr>\n",
              "  </tbody>\n",
              "</table>\n",
              "</div>"
            ],
            "text/plain": [
              "               screen_name                                                bio  \\\n",
              "user_id                                                                         \n",
              "411194625   RBraceySherman  Black Feminist • 👩🏽‍💻 @AbortionFunds @Abortion...   \n",
              "272191896    SarahEMcBride  Author of Tomorrow Will Be Different, Nat'l Pr...   \n",
              "271725689        iamsambee                                  Alleged humorist.   \n",
              "267915933  feministabulous  host of vox media’s consider it | pre-order my...   \n",
              "260959284     KathaPollitt  Politics, poetry, feminism, books, life.  New ...   \n",
              "\n",
              "           followers  \n",
              "user_id               \n",
              "411194625      16681  \n",
              "272191896      46890  \n",
              "271725689     515000  \n",
              "267915933     136635  \n",
              "260959284      20118  "
            ]
          },
          "metadata": {
            "tags": []
          },
          "execution_count": 21
        }
      ]
    },
    {
      "metadata": {
        "id": "nh8Gr_O-_Xdi",
        "colab_type": "text"
      },
      "cell_type": "markdown",
      "source": [
        "Accounts which are protected will not be accessible for the majority of Tweepy user object functionality. These need to be removed. \n",
        "\n",
        "When the API connection was built at the start of the script, the wait_on_rate_limit and wait_on_rate_limit_notify parameters were set to true. While those will catch a wait limit error, notify us, and go again when ready, this function checks a lot of users very quickly and will hit the rate limit most of the time if left alone. A sleep timer for each user has been set as a random float up to 0.2 (representing sleep up to 0.2s). This will not prevent rate limit errors 100% of the time but strikes a balance between error prevention and run time. \n",
        "\n",
        "Run time for this function is as such maximized at 0.2 * n_users seconds.\n"
      ]
    },
    {
      "metadata": {
        "id": "F_W70DGAbJUX",
        "colab_type": "code",
        "outputId": "2b96da11-dcad-41a3-8b88-81f99862d468",
        "colab": {
          "base_uri": "https://localhost:8080/",
          "height": 153
        }
      },
      "cell_type": "code",
      "source": [
        "def remove_protected_accounts(users_df):\n",
        "    \n",
        "    working_df = users_df.copy()\n",
        "    protected_ids = []\n",
        "    \n",
        "    counter = 0\n",
        "    for index, row in users_df.iterrows():\n",
        "        user = api.get_user(id=index)._json\n",
        "        if user['protected'] == True:\n",
        "            protected_ids.append(index)\n",
        "        counter += 1\n",
        "        if counter % 100 == 0:\n",
        "            print(str(counter) + '/' + str(len(working_df)) + ' IDs checked')\n",
        "            print('Protected IDs found:', len(protected_ids), '\\n')\n",
        "        # Sleeping for up to 0.2s helps not to exceed Tweepy's rate limit.\n",
        "        time.sleep(random() / 5)\n",
        "    \n",
        "    print('Orignal number of users:', len(working_df))\n",
        "    working_df.drop(labels=protected_ids, inplace=True)\n",
        "    print('Modified number of users:', len(working_df))\n",
        "    \n",
        "    working_df.reset_index(inplace=True)\n",
        "            \n",
        "    return working_df\n",
        "            \n",
        "\n",
        "influencers_df = remove_protected_accounts(influencers_df)"
      ],
      "execution_count": 22,
      "outputs": [
        {
          "output_type": "stream",
          "text": [
            "100/200 IDs checked\n",
            "Protected IDs found: 1 \n",
            "\n",
            "200/200 IDs checked\n",
            "Protected IDs found: 1 \n",
            "\n",
            "Orignal number of users: 200\n",
            "Modified number of users: 199\n"
          ],
          "name": "stdout"
        }
      ]
    },
    {
      "metadata": {
        "id": "GTlVXskl176A",
        "colab_type": "text"
      },
      "cell_type": "markdown",
      "source": [
        "Now protected accounts have been removed, engagements with users' tweets can be examined. We can't access actual impressions for tweets, but we can access some engagement actions (favorites, retweets) for tweets. By looking at engagement actions in relation to the number of followers a user has, we can see how much their audience is engaged with that user's content. \n",
        "\n",
        "While this particular notebook just overviews the scraping code, it's a helpful excercise to generate some additional data to demonstrate a use case. As we've been looking at influencers for the purposes of this script, we can get a fairly good measurement of how effective an influencer might be by looking at metrics like this. \n",
        "\n"
      ]
    },
    {
      "metadata": {
        "id": "0fPlPDdVZOzz",
        "colab_type": "code",
        "outputId": "59502e40-8a58-411b-8b3b-0e0a7c66bd2a",
        "colab": {
          "base_uri": "https://localhost:8080/",
          "height": 51
        }
      },
      "cell_type": "code",
      "source": [
        "def calc_median_favorites(user_id):\n",
        "    \n",
        "    fav_list = []\n",
        "    tweets = api.user_timeline(id=user_id, count=100)\n",
        "    \n",
        "    for tweet in tweets:\n",
        "        if tweet._json['text'].startswith('RT'):\n",
        "            continue\n",
        "        else:\n",
        "            fav_list.append(tweet._json['favorite_count'])\n",
        "    \n",
        "    time.sleep(random() / 5)\n",
        "    \n",
        "    return np.median(fav_list)  \n",
        "\n",
        "\n",
        "influencers_df['median_favs'] = influencers_df['user_id'].apply(lambda x: calc_median_favorites(x))"
      ],
      "execution_count": 23,
      "outputs": [
        {
          "output_type": "stream",
          "text": [
            "/usr/local/lib/python3.6/dist-packages/numpy/core/fromnumeric.py:2957: RuntimeWarning: Mean of empty slice.\n",
            "  out=out, **kwargs)\n"
          ],
          "name": "stderr"
        }
      ]
    },
    {
      "metadata": {
        "id": "1apvWYVwalN9",
        "colab_type": "code",
        "outputId": "dd25a5e7-d4cc-4b30-c395-03b2618b091d",
        "colab": {
          "base_uri": "https://localhost:8080/",
          "height": 51
        }
      },
      "cell_type": "code",
      "source": [
        "def calc_median_retweets(user_id):\n",
        "    \n",
        "    rt_list = []\n",
        "    tweets = api.user_timeline(id=user_id, count=100)\n",
        "    \n",
        "    for tweet in tweets:\n",
        "        if tweet._json['text'].startswith('RT'):\n",
        "            continue\n",
        "        else:\n",
        "            rt_list.append(tweet._json['retweet_count'])\n",
        "    \n",
        "    time.sleep(random() / 5)\n",
        "    \n",
        "    return np.median(rt_list)  \n",
        "\n",
        "\n",
        "influencers_df['median_rts'] = influencers_df['user_id'].apply(lambda x: calc_median_retweets(x))"
      ],
      "execution_count": 24,
      "outputs": [
        {
          "output_type": "stream",
          "text": [
            "/usr/local/lib/python3.6/dist-packages/numpy/core/fromnumeric.py:2957: RuntimeWarning: Mean of empty slice.\n",
            "  out=out, **kwargs)\n"
          ],
          "name": "stderr"
        }
      ]
    },
    {
      "metadata": {
        "id": "35abBVjAVTlf",
        "colab_type": "code",
        "outputId": "bc3e657d-91e5-46c4-bd9c-3a8fc6018c19",
        "colab": {
          "base_uri": "https://localhost:8080/",
          "height": 204
        }
      },
      "cell_type": "code",
      "source": [
        "influencers_df.head()"
      ],
      "execution_count": 25,
      "outputs": [
        {
          "output_type": "execute_result",
          "data": {
            "text/html": [
              "<div>\n",
              "<style scoped>\n",
              "    .dataframe tbody tr th:only-of-type {\n",
              "        vertical-align: middle;\n",
              "    }\n",
              "\n",
              "    .dataframe tbody tr th {\n",
              "        vertical-align: top;\n",
              "    }\n",
              "\n",
              "    .dataframe thead th {\n",
              "        text-align: right;\n",
              "    }\n",
              "</style>\n",
              "<table border=\"1\" class=\"dataframe\">\n",
              "  <thead>\n",
              "    <tr style=\"text-align: right;\">\n",
              "      <th></th>\n",
              "      <th>user_id</th>\n",
              "      <th>screen_name</th>\n",
              "      <th>bio</th>\n",
              "      <th>followers</th>\n",
              "      <th>median_favs</th>\n",
              "      <th>median_rts</th>\n",
              "    </tr>\n",
              "  </thead>\n",
              "  <tbody>\n",
              "    <tr>\n",
              "      <th>0</th>\n",
              "      <td>411194625</td>\n",
              "      <td>RBraceySherman</td>\n",
              "      <td>Black Feminist • 👩🏽‍💻 @AbortionFunds @Abortion...</td>\n",
              "      <td>16681</td>\n",
              "      <td>5.0</td>\n",
              "      <td>1.0</td>\n",
              "    </tr>\n",
              "    <tr>\n",
              "      <th>1</th>\n",
              "      <td>272191896</td>\n",
              "      <td>SarahEMcBride</td>\n",
              "      <td>Author of Tomorrow Will Be Different, Nat'l Pr...</td>\n",
              "      <td>46890</td>\n",
              "      <td>9.0</td>\n",
              "      <td>0.0</td>\n",
              "    </tr>\n",
              "    <tr>\n",
              "      <th>2</th>\n",
              "      <td>271725689</td>\n",
              "      <td>iamsambee</td>\n",
              "      <td>Alleged humorist.</td>\n",
              "      <td>515000</td>\n",
              "      <td>411.0</td>\n",
              "      <td>44.0</td>\n",
              "    </tr>\n",
              "    <tr>\n",
              "      <th>3</th>\n",
              "      <td>267915933</td>\n",
              "      <td>feministabulous</td>\n",
              "      <td>host of vox media’s consider it | pre-order my...</td>\n",
              "      <td>136635</td>\n",
              "      <td>16.0</td>\n",
              "      <td>0.5</td>\n",
              "    </tr>\n",
              "    <tr>\n",
              "      <th>4</th>\n",
              "      <td>260959284</td>\n",
              "      <td>KathaPollitt</td>\n",
              "      <td>Politics, poetry, feminism, books, life.  New ...</td>\n",
              "      <td>20118</td>\n",
              "      <td>2.0</td>\n",
              "      <td>0.0</td>\n",
              "    </tr>\n",
              "  </tbody>\n",
              "</table>\n",
              "</div>"
            ],
            "text/plain": [
              "     user_id      screen_name  \\\n",
              "0  411194625   RBraceySherman   \n",
              "1  272191896    SarahEMcBride   \n",
              "2  271725689        iamsambee   \n",
              "3  267915933  feministabulous   \n",
              "4  260959284     KathaPollitt   \n",
              "\n",
              "                                                 bio  followers  median_favs  \\\n",
              "0  Black Feminist • 👩🏽‍💻 @AbortionFunds @Abortion...      16681          5.0   \n",
              "1  Author of Tomorrow Will Be Different, Nat'l Pr...      46890          9.0   \n",
              "2                                  Alleged humorist.     515000        411.0   \n",
              "3  host of vox media’s consider it | pre-order my...     136635         16.0   \n",
              "4  Politics, poetry, feminism, books, life.  New ...      20118          2.0   \n",
              "\n",
              "   median_rts  \n",
              "0         1.0  \n",
              "1         0.0  \n",
              "2        44.0  \n",
              "3         0.5  \n",
              "4         0.0  "
            ]
          },
          "metadata": {
            "tags": []
          },
          "execution_count": 25
        }
      ]
    },
    {
      "metadata": {
        "id": "rAtWyt4KKf7e",
        "colab_type": "text"
      },
      "cell_type": "markdown",
      "source": [
        "We've likely got a notification above for a RuntimeWarning. This is numpy trying to take the median of of an empty array, that is, accounts that have never tweeted. Those accounts are visbile in the data as they have nan values under median_favs and/or median_rts. We can check to see if any exist using a heatmap for null values. "
      ]
    },
    {
      "metadata": {
        "id": "4pgOyK1p3nt1",
        "colab_type": "code",
        "outputId": "af078f86-ce13-4094-b583-23e2157f107a",
        "colab": {
          "base_uri": "https://localhost:8080/",
          "height": 286
        }
      },
      "cell_type": "code",
      "source": [
        "sns.heatmap(influencers_df.isnull())"
      ],
      "execution_count": 26,
      "outputs": [
        {
          "output_type": "execute_result",
          "data": {
            "text/plain": [
              "<matplotlib.axes._subplots.AxesSubplot at 0x7f6e052dbc18>"
            ]
          },
          "metadata": {
            "tags": []
          },
          "execution_count": 26
        },
        {
          "output_type": "display_data",
          "data": {
            "image/png": "[encoded data removed]",
            "text/plain": [
              "<Figure size 432x288 with 2 Axes>"
            ]
          },
          "metadata": {
            "tags": []
          }
        }
      ]
    },
    {
      "metadata": {
        "id": "naaOwkn_bVBW",
        "colab_type": "text"
      },
      "cell_type": "markdown",
      "source": [
        "Since there are nulls, we'll remove those and be left with a clean dataset. Creating a heatmap again confirms this. "
      ]
    },
    {
      "metadata": {
        "id": "nWKLf31ubZ2g",
        "colab_type": "code",
        "outputId": "1b4433b1-cbf1-4c59-eaf3-0fd1ecdb7512",
        "colab": {
          "base_uri": "https://localhost:8080/",
          "height": 286
        }
      },
      "cell_type": "code",
      "source": [
        "influencers_df = influencers_df.loc[~influencers_df['median_favs'].isnull()]\n",
        "sns.heatmap(influencers_df.isnull())"
      ],
      "execution_count": 27,
      "outputs": [
        {
          "output_type": "execute_result",
          "data": {
            "text/plain": [
              "<matplotlib.axes._subplots.AxesSubplot at 0x7f6e050bcef0>"
            ]
          },
          "metadata": {
            "tags": []
          },
          "execution_count": 27
        },
        {
          "output_type": "display_data",
          "data": {
            "image/png": "[encoded data removed]",
            "text/plain": [
              "<Figure size 432x288 with 2 Axes>"
            ]
          },
          "metadata": {
            "tags": []
          }
        }
      ]
    },
    {
      "metadata": {
        "id": "ShXhMYlYcUYi",
        "colab_type": "text"
      },
      "cell_type": "markdown",
      "source": [
        "Now, to create some kind of engagement metric. \n",
        "\n",
        "Firstly, we should remove accounts that are not often interacted with, that is, where media favs == 0. Also since the way we're crowdsourcing this data is highly subjective, we should set a low cutoff for follower count. We'll make this 1000. \n",
        "\n",
        "Secondle, we need a solid proxy for engagement. We can use the mean of median_favs / # of followers and median_rts / # of followers, so we'll create that column now. The resulting array features mostly small numbers which are difficult to compare so we'll also standardize the column. "
      ]
    },
    {
      "metadata": {
        "id": "7dhQWmxuk2rk",
        "colab_type": "code",
        "colab": {}
      },
      "cell_type": "code",
      "source": [
        "def remove_low_engagement_accounts(df):\n",
        "    \n",
        "    working_df = df.copy()\n",
        "    \n",
        "    working_df = working_df.loc[(working_df['median_favs'] > 0) &\n",
        "                                (working_df['followers'] >= 1000)]\n",
        "    \n",
        "    return working_df\n",
        "\n",
        "influencers_df = remove_low_engagement_accounts(influencers_df)"
      ],
      "execution_count": 0,
      "outputs": []
    },
    {
      "metadata": {
        "id": "GGuRoEPkbhOY",
        "colab_type": "code",
        "colab": {}
      },
      "cell_type": "code",
      "source": [
        "def create_engagement_metric(df):\n",
        "      \n",
        "    working_df = df.copy()\n",
        "    \n",
        "    from sklearn.preprocessing import StandardScaler\n",
        "    # Favorites\n",
        "    fav_eng_array = df['median_favs'] / df['followers']\n",
        "    scaler = StandardScaler().fit(fav_eng_array.values.reshape(-1, 1))\n",
        "    scaled_favs = scaler.transform(fav_eng_array.values.reshape(-1, 1))\n",
        "    \n",
        "    # Retweets\n",
        "    rt_eng_array = df['median_favs'] / df['followers']\n",
        "    scaler = StandardScaler().fit(rt_eng_array.values.reshape(-1, 1))\n",
        "    scaled_rts = scaler.transform(rt_eng_array.values.reshape(-1, 1))\n",
        "    \n",
        "    mean_eng = (scaled_favs + scaled_rts) / 2\n",
        "    working_df['engagement'] = mean_eng\n",
        "    \n",
        "    return working_df\n",
        "                                                \n",
        "\n",
        "influencers_df = create_engagement_metric(influencers_df)"
      ],
      "execution_count": 0,
      "outputs": []
    },
    {
      "metadata": {
        "id": "2h3t57kgFUwV",
        "colab_type": "code",
        "outputId": "1c0cdca7-6d41-4151-fe5d-21d280e4dcb0",
        "colab": {
          "base_uri": "https://localhost:8080/",
          "height": 204
        }
      },
      "cell_type": "code",
      "source": [
        "influencers_df.sort_values('followers', ascending=False).head()"
      ],
      "execution_count": 30,
      "outputs": [
        {
          "output_type": "execute_result",
          "data": {
            "text/html": [
              "<div>\n",
              "<style scoped>\n",
              "    .dataframe tbody tr th:only-of-type {\n",
              "        vertical-align: middle;\n",
              "    }\n",
              "\n",
              "    .dataframe tbody tr th {\n",
              "        vertical-align: top;\n",
              "    }\n",
              "\n",
              "    .dataframe thead th {\n",
              "        text-align: right;\n",
              "    }\n",
              "</style>\n",
              "<table border=\"1\" class=\"dataframe\">\n",
              "  <thead>\n",
              "    <tr style=\"text-align: right;\">\n",
              "      <th></th>\n",
              "      <th>user_id</th>\n",
              "      <th>screen_name</th>\n",
              "      <th>bio</th>\n",
              "      <th>followers</th>\n",
              "      <th>median_favs</th>\n",
              "      <th>median_rts</th>\n",
              "      <th>engagement</th>\n",
              "    </tr>\n",
              "  </thead>\n",
              "  <tbody>\n",
              "    <tr>\n",
              "      <th>37</th>\n",
              "      <td>44409004</td>\n",
              "      <td>shakira</td>\n",
              "      <td>Shakira NADA https://t.co/50Yl0h1Xkh</td>\n",
              "      <td>50951902</td>\n",
              "      <td>4823.0</td>\n",
              "      <td>614.5</td>\n",
              "      <td>-0.387886</td>\n",
              "    </tr>\n",
              "    <tr>\n",
              "      <th>28</th>\n",
              "      <td>115485051</td>\n",
              "      <td>ConanOBrien</td>\n",
              "      <td>The voice of the people. Sorry, people.</td>\n",
              "      <td>28444527</td>\n",
              "      <td>10573.0</td>\n",
              "      <td>810.0</td>\n",
              "      <td>0.101722</td>\n",
              "    </tr>\n",
              "    <tr>\n",
              "      <th>39</th>\n",
              "      <td>32959253</td>\n",
              "      <td>khloekardashian</td>\n",
              "      <td></td>\n",
              "      <td>26262345</td>\n",
              "      <td>20.0</td>\n",
              "      <td>1.0</td>\n",
              "      <td>-0.553823</td>\n",
              "    </tr>\n",
              "    <tr>\n",
              "      <th>24</th>\n",
              "      <td>268439864</td>\n",
              "      <td>xtina</td>\n",
              "      <td>#TheXperience LIVE in Vegas starting May 31st ...</td>\n",
              "      <td>16979802</td>\n",
              "      <td>6405.5</td>\n",
              "      <td>988.5</td>\n",
              "      <td>0.111507</td>\n",
              "    </tr>\n",
              "    <tr>\n",
              "      <th>129</th>\n",
              "      <td>91478624</td>\n",
              "      <td>Forbes</td>\n",
              "      <td>Official Twitter account of https://t.co/LUUqt...</td>\n",
              "      <td>15170084</td>\n",
              "      <td>44.5</td>\n",
              "      <td>18.0</td>\n",
              "      <td>-0.549985</td>\n",
              "    </tr>\n",
              "  </tbody>\n",
              "</table>\n",
              "</div>"
            ],
            "text/plain": [
              "       user_id      screen_name  \\\n",
              "37    44409004          shakira   \n",
              "28   115485051      ConanOBrien   \n",
              "39    32959253  khloekardashian   \n",
              "24   268439864            xtina   \n",
              "129   91478624           Forbes   \n",
              "\n",
              "                                                   bio  followers  \\\n",
              "37                Shakira NADA https://t.co/50Yl0h1Xkh   50951902   \n",
              "28             The voice of the people. Sorry, people.   28444527   \n",
              "39                                                       26262345   \n",
              "24   #TheXperience LIVE in Vegas starting May 31st ...   16979802   \n",
              "129  Official Twitter account of https://t.co/LUUqt...   15170084   \n",
              "\n",
              "     median_favs  median_rts  engagement  \n",
              "37        4823.0       614.5   -0.387886  \n",
              "28       10573.0       810.0    0.101722  \n",
              "39          20.0         1.0   -0.553823  \n",
              "24        6405.5       988.5    0.111507  \n",
              "129         44.5        18.0   -0.549985  "
            ]
          },
          "metadata": {
            "tags": []
          },
          "execution_count": 30
        }
      ]
    },
    {
      "metadata": {
        "id": "CkBno9kl8kWs",
        "colab_type": "text"
      },
      "cell_type": "markdown",
      "source": [
        "So that's a start on scraping some \"crowdsourced\" data from Twitter. From here it would be easy enough to generate some business level insights, but we'll save that for another notebook to keep this exercise concise. "
      ]
    }
  ]
}