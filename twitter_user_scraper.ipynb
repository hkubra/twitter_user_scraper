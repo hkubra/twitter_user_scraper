{
  "nbformat": 4,
  "nbformat_minor": 0,
  "metadata": {
    "colab": {
      "name": "twitter_user_scraper.ipynb",
      "version": "0.3.2",
      "provenance": [],
      "collapsed_sections": []
    },
    "kernelspec": {
      "name": "python3",
      "display_name": "Python 3"
    }
  },
  "cells": [
    {
      "metadata": {
        "id": "xMW5RIhrJfq4",
        "colab_type": "text"
      },
      "cell_type": "markdown",
      "source": [
        "# A Scraper for Twitter User Data \n",
        "\n",
        "This project utilizes the googlesearch module with Tweepy to create a dataset of Twitter users, sourced from user-generated Twitter lists that match a given keyword. By using lists like so, we can bulk identify accounts that match a keyword without having to trawl through user attributes like bios. Tweepy allows access to a plethora of user/status/list data, so once lists and the users contained in the lists have been scraped, the breadth of data that can be collected is expansive. \n",
        "\n",
        "For demonstration purposes, the project here pulls in favorite and retweet actions and creates a measurement of engagement for each user collected. \n",
        "\n",
        "This script takes several minutes to run, depending on how intensive the Google search and Twitter API requests are. For Google, a conservative random sleep timer is used to best prevent timeouts. For Twitter, the API is instantiated using wait_on_rate_limit=True, meaning that if the API's wait limit is exceeded, the function will wait until the API is available again rather than throwing an error. \n",
        "\n",
        "The project requires access to Twitter's API, so you will need to a developer account with Twitter. Set up an account and project here for free: https://developer.twitter.com/en/apply-for-access.\n",
        "\n",
        "The googlesearch module requires installation. Retrieve it here: https://github.com/MarioVilas/googlesearch. \n",
        "\n",
        "Notes:\n",
        "- The results_to_obtain parameter for scrape_influencers_use_google() is currently set to 50. Increase the number to retrieve more lists and more users. If the number is increased significantly, set the sleep time between each URL to a longer period to prevent being locked out by Google. \n",
        "- The list_contains_string parameter is the keyword you will use to search for lists. \n",
        "\n"
      ]
    },
    {
      "metadata": {
        "id": "bQkdi9K3JBx1",
        "colab_type": "code",
        "colab": {}
      },
      "cell_type": "code",
      "source": [
        "# Module imports \n",
        "import tweepy\n",
        "import time\n",
        "import pandas as pd\n",
        "import numpy as np\n",
        "import json\n",
        "import time\n",
        "from random import randint, random\n",
        "from googlesearch import search as gsearch\n",
        "import matplotlib.pyplot as plt\n",
        "import seaborn as sns\n",
        "%matplotlib inline"
      ],
      "execution_count": 0,
      "outputs": []
    },
    {
      "metadata": {
        "id": "gqg7pcHspJ98",
        "colab_type": "text"
      },
      "cell_type": "markdown",
      "source": [
        "Authenticating to Twitter and creating the API connection.\n",
        "\n",
        "Assign the keys for your Twitter developer account to the approriate variables. "
      ]
    },
    {
      "metadata": {
        "id": "Z91j6XfBJSlc",
        "colab_type": "code",
        "colab": {}
      },
      "cell_type": "code",
      "source": [
        "api_key = ''\n",
        "secret_key = ''\n",
        "access_token = ''\n",
        "secret_token = ''\n",
        "\n",
        "def authenticate(api_key, secret_key, access_token, secret_token):\n",
        "\n",
        "    auth = tweepy.OAuthHandler(api_key, secret_key)\n",
        "    auth.set_access_token(access_token, secret_token)\n",
        "    api = tweepy.API(auth, \n",
        "                     wait_on_rate_limit=True, \n",
        "                     wait_on_rate_limit_notify=True)\n",
        "  \n",
        "    return api\n",
        "\n",
        "\n",
        "api = authenticate(api_key, secret_key, access_token, secret_token)"
      ],
      "execution_count": 0,
      "outputs": []
    },
    {
      "metadata": {
        "id": "2vWZeBZZo8FC",
        "colab_type": "text"
      },
      "cell_type": "markdown",
      "source": [
        "Some api calls will result in a rate limit error. While this script in it's current iteration does not require this now, the function below will handle those if needed for any Tweepy requests. "
      ]
    },
    {
      "metadata": {
        "id": "_KLxo3yOjxZL",
        "colab_type": "code",
        "colab": {}
      },
      "cell_type": "code",
      "source": [
        "def limit_handled(cursor):\n",
        "    \n",
        "    while True:\n",
        "        try:\n",
        "            yield cursor.next()\n",
        "        except tweepy.RateLimitError:\n",
        "            time.sleep(2)\n",
        "            continue"
      ],
      "execution_count": 0,
      "outputs": []
    },
    {
      "metadata": {
        "id": "wa_p7hr_pWml",
        "colab_type": "text"
      },
      "cell_type": "markdown",
      "source": [
        "Parameter notes:\n",
        "- list_contains_string - the list keyword to search for\n",
        "- results to obtain - number of results to be recorded\n",
        "\n",
        "Requesting a large number of results will likely cause Google to temporarily prevent access. "
      ]
    },
    {
      "metadata": {
        "id": "hHlsPsEVDYZ9",
        "colab_type": "code",
        "colab": {}
      },
      "cell_type": "code",
      "source": [
        "\n",
        "def scrape_lists_with_google(keyword_string, results_to_obtain):\n",
        "\n",
        "    list_urls = []\n",
        "\n",
        "    urls_checked = 0\n",
        "    urls_appended = 0\n",
        "    \n",
        "    # Perform the Google search, checking only the twitter.com domain\n",
        "    for url in gsearch(\"site:twitter.com lists \" + keyword_string, \n",
        "                      start=urls_checked, \n",
        "                      num=10, \n",
        "                      pause=randint(3, 5)):\n",
        "        \n",
        "        # Take URLs that contain Twitter's '/lists' subdomain\n",
        "        if '/lists/' in url:\n",
        "            list_urls.append(url)\n",
        "            urls_appended += 1\n",
        "            urls_checked += 1\n",
        "\n",
        "        # If Google is returning 5x as many non-list results as lists, break search\n",
        "        if urls_checked / urls_appended > 5:\n",
        "            break\n",
        "        \n",
        "        # If we reach our results # request limit, break the search\n",
        "        elif urls_appended >= results_to_obtain:\n",
        "            break\n",
        "        \n",
        "        # Sleep to prevent timeouts\n",
        "        time.sleep(randint(3, 5))\n",
        "\n",
        "    list_urls = [url[8:] for url in list_urls] # Removes leading https://\n",
        "\n",
        "    return list_urls\n",
        "  \n",
        "\n",
        "list_urls = scrape_lists_with_google(\"influencers\", 10)"
      ],
      "execution_count": 0,
      "outputs": []
    },
    {
      "metadata": {
        "id": "7nYmaoiCre3V",
        "colab_type": "text"
      },
      "cell_type": "markdown",
      "source": [
        "Getting the individual users and associated attributes is made easy with Tweepy. Using the API created earlier, this function returns a dataframe of individual users and associated Twitter attributes. "
      ]
    },
    {
      "metadata": {
        "id": "tSSWgKTCi-0A",
        "colab_type": "code",
        "colab": {}
      },
      "cell_type": "code",
      "source": [
        "# Get user id, screen name, bio, follower count\n",
        "\n",
        "def get_users_in_lists(list_urls):\n",
        "  \n",
        "    users_list = []\n",
        "    bios_list = []\n",
        "    desc_list = []\n",
        "    follower_count_list = []\n",
        "    \n",
        "    for tw_list in list_urls:\n",
        "    \n",
        "        user = tw_list.split('/')[1]\n",
        "        list_name = tw_list.split('/')[3]\n",
        "\n",
        "        # Using Tweepy api, getting json of all users in list\n",
        "        list_members_output = api.list_members(user, list_name)\n",
        "\n",
        "        # Parsing json data and appending to appropriate lists instantiated above\n",
        "        for user_id in list_members_output:\n",
        "            users_list.append(user_id._json['id'])\n",
        "            bios_list.append(user_id._json['screen_name'])\n",
        "            desc_list.append(user_id._json['description'])\n",
        "            follower_count_list.append(user_id._json['followers_count'])\n",
        "            \n",
        "    zipped_data = zip(users_list, bios_list, desc_list, follower_count_list)\n",
        "    \n",
        "    # Creates a pandas dataframe containing user attributes\n",
        "    output_df = pd.DataFrame(list(zipped_data), columns=['user_id', \n",
        "                                                         'screen_name',\n",
        "                                                         'bio',\n",
        "                                                         'followers'])\n",
        "    # Dropping duplicate users if they were in multiple lists\n",
        "    output_df.drop_duplicates('user_id')\n",
        "    \n",
        "    output_df.set_index('user_id', inplace=True)\n",
        "    \n",
        "    return output_df\n",
        "  \n",
        "\n",
        "influencers_df = get_users_in_lists(list_urls)"
      ],
      "execution_count": 0,
      "outputs": []
    },
    {
      "metadata": {
        "id": "vZbjS6kuSfwm",
        "colab_type": "code",
        "outputId": "60f8db4e-a332-4163-a9ba-4c5387e462cd",
        "colab": {
          "base_uri": "https://localhost:8080/",
          "height": 235
        }
      },
      "cell_type": "code",
      "source": [
        "influencers_df.sort_values(by='followers', ascending=False).head()"
      ],
      "execution_count": 16,
      "outputs": [
        {
          "output_type": "execute_result",
          "data": {
            "text/html": [
              "<div>\n",
              "<style scoped>\n",
              "    .dataframe tbody tr th:only-of-type {\n",
              "        vertical-align: middle;\n",
              "    }\n",
              "\n",
              "    .dataframe tbody tr th {\n",
              "        vertical-align: top;\n",
              "    }\n",
              "\n",
              "    .dataframe thead th {\n",
              "        text-align: right;\n",
              "    }\n",
              "</style>\n",
              "<table border=\"1\" class=\"dataframe\">\n",
              "  <thead>\n",
              "    <tr style=\"text-align: right;\">\n",
              "      <th></th>\n",
              "      <th>screen_name</th>\n",
              "      <th>bio</th>\n",
              "      <th>followers</th>\n",
              "    </tr>\n",
              "    <tr>\n",
              "      <th>user_id</th>\n",
              "      <th></th>\n",
              "      <th></th>\n",
              "      <th></th>\n",
              "    </tr>\n",
              "  </thead>\n",
              "  <tbody>\n",
              "    <tr>\n",
              "      <th>44409004</th>\n",
              "      <td>shakira</td>\n",
              "      <td>Shakira NADA https://t.co/50Yl0h1Xkh</td>\n",
              "      <td>51007100</td>\n",
              "    </tr>\n",
              "    <tr>\n",
              "      <th>115485051</th>\n",
              "      <td>ConanOBrien</td>\n",
              "      <td>The voice of the people. Sorry, people.</td>\n",
              "      <td>28466267</td>\n",
              "    </tr>\n",
              "    <tr>\n",
              "      <th>32959253</th>\n",
              "      <td>khloekardashian</td>\n",
              "      <td></td>\n",
              "      <td>26718338</td>\n",
              "    </tr>\n",
              "    <tr>\n",
              "      <th>268439864</th>\n",
              "      <td>xtina</td>\n",
              "      <td>#TheXperience LIVE in Vegas starting May 31st ...</td>\n",
              "      <td>16987526</td>\n",
              "    </tr>\n",
              "    <tr>\n",
              "      <th>40908929</th>\n",
              "      <td>Usher</td>\n",
              "      <td></td>\n",
              "      <td>12373152</td>\n",
              "    </tr>\n",
              "  </tbody>\n",
              "</table>\n",
              "</div>"
            ],
            "text/plain": [
              "               screen_name                                                bio  \\\n",
              "user_id                                                                         \n",
              "44409004           shakira               Shakira NADA https://t.co/50Yl0h1Xkh   \n",
              "115485051      ConanOBrien            The voice of the people. Sorry, people.   \n",
              "32959253   khloekardashian                                                      \n",
              "268439864            xtina  #TheXperience LIVE in Vegas starting May 31st ...   \n",
              "40908929             Usher                                                      \n",
              "\n",
              "           followers  \n",
              "user_id               \n",
              "44409004    51007100  \n",
              "115485051   28466267  \n",
              "32959253    26718338  \n",
              "268439864   16987526  \n",
              "40908929    12373152  "
            ]
          },
          "metadata": {
            "tags": []
          },
          "execution_count": 16
        }
      ]
    },
    {
      "metadata": {
        "id": "nh8Gr_O-_Xdi",
        "colab_type": "text"
      },
      "cell_type": "markdown",
      "source": [
        "Accounts which are protected will not be accessible for the majority of Tweepy user object functionality. These need to be removed. \n",
        "\n",
        "When the API connection was built at the start of the script, the wait_on_rate_limit and wait_on_rate_limit_notify parameters were set to true. While those will catch a wait limit error, notify us, and go again when ready, this function checks a lot of users very quickly and will hit the rate limit most of the time if left alone. A sleep timer for each user has been set as a random float up to 0.2 (representing sleep up to 0.2s). This will not prevent rate limit errors 100% of the time but strikes a balance between error prevention and run time. \n",
        "\n",
        "Run time for this function is as such maximized at 0.2 * n_users seconds.\n"
      ]
    },
    {
      "metadata": {
        "id": "F_W70DGAbJUX",
        "colab_type": "code",
        "outputId": "f38214d7-e7e2-467f-cbf5-1b241d4ba397",
        "colab": {
          "base_uri": "https://localhost:8080/",
          "height": 153
        }
      },
      "cell_type": "code",
      "source": [
        "def remove_protected_accounts(users_df):\n",
        "    \n",
        "    working_df = users_df.copy()\n",
        "    protected_ids = []\n",
        "    \n",
        "    counter = 0\n",
        "    for index, row in users_df.iterrows():\n",
        "        user = api.get_user(id=index)._json\n",
        "        if user['protected'] == True:\n",
        "            protected_ids.append(index)\n",
        "        counter += 1\n",
        "        if counter % 100 == 0:\n",
        "            print(str(counter) + '/' + str(len(working_df)) + ' IDs checked')\n",
        "            print('Protected IDs found:', len(protected_ids), '\\n')\n",
        "        # Sleeping for up to 0.2s helps not to exceed Tweepy's rate limit.\n",
        "        time.sleep(random() / 5)\n",
        "    \n",
        "    working_df.drop(labels=protected_ids, inplace=True)\n",
        "    working_df.reset_index(inplace=True)\n",
        "            \n",
        "    return working_df\n",
        "            \n",
        "\n",
        "influencers_df = remove_protected_accounts(influencers_df)"
      ],
      "execution_count": 17,
      "outputs": [
        {
          "output_type": "stream",
          "text": [
            "100/200 IDs checked\n",
            "Protected IDs found: 0 \n",
            "\n",
            "200/200 IDs checked\n",
            "Protected IDs found: 2 \n",
            "\n",
            "Orignal number of users: 200\n",
            "Modified number of users: 198\n"
          ],
          "name": "stdout"
        }
      ]
    },
    {
      "metadata": {
        "id": "GTlVXskl176A",
        "colab_type": "text"
      },
      "cell_type": "markdown",
      "source": [
        "Now protected accounts have been removed, engagements with users' tweets can be examined. We can't access actual impressions for tweets, but we can access some engagement actions (favorites, retweets) for tweets. By looking at engagement actions in relation to the number of followers a user has, we can see how much their audience is engaged with that user's content. \n",
        "\n",
        "While this particular notebook just overviews the scraping code, it's a helpful excercise to generate some additional data to demonstrate a use case. As we've been looking at influencers for the purposes of this script, we can get a fairly good measurement of how effective an influencer might be by looking at metrics like this. \n",
        "\n"
      ]
    },
    {
      "metadata": {
        "id": "0fPlPDdVZOzz",
        "colab_type": "code",
        "outputId": "785fb621-6076-47f7-aca7-88b6fad64670",
        "colab": {
          "base_uri": "https://localhost:8080/",
          "height": 51
        }
      },
      "cell_type": "code",
      "source": [
        "def calc_median_favorites(user_id):\n",
        "    \n",
        "    fav_list = []\n",
        "    tweets = api.user_timeline(id=user_id, count=100)\n",
        "    \n",
        "    for tweet in tweets:\n",
        "        if tweet._json['text'].startswith('RT'):\n",
        "            continue\n",
        "        else:\n",
        "            fav_list.append(tweet._json['favorite_count'])\n",
        "    \n",
        "    time.sleep(random() / 5)\n",
        "    \n",
        "    return np.median(fav_list)  \n",
        "\n",
        "\n",
        "influencers_df['median_favs'] = influencers_df['user_id'].apply(lambda x: calc_median_favorites(x))"
      ],
      "execution_count": 18,
      "outputs": [
        {
          "output_type": "stream",
          "text": [
            "/usr/local/lib/python3.6/dist-packages/numpy/core/fromnumeric.py:2957: RuntimeWarning: Mean of empty slice.\n",
            "  out=out, **kwargs)\n"
          ],
          "name": "stderr"
        }
      ]
    },
    {
      "metadata": {
        "id": "1apvWYVwalN9",
        "colab_type": "code",
        "outputId": "4848c01e-e18a-4702-8da7-c9ff86112eaf",
        "colab": {
          "base_uri": "https://localhost:8080/",
          "height": 51
        }
      },
      "cell_type": "code",
      "source": [
        "def calc_median_retweets(user_id):\n",
        "    \n",
        "    rt_list = []\n",
        "    tweets = api.user_timeline(id=user_id, count=100)\n",
        "    \n",
        "    for tweet in tweets:\n",
        "        if tweet._json['text'].startswith('RT'):\n",
        "            continue\n",
        "        else:\n",
        "            rt_list.append(tweet._json['retweet_count'])\n",
        "    \n",
        "    time.sleep(random() / 5)\n",
        "    \n",
        "    return np.median(rt_list)  \n",
        "\n",
        "\n",
        "influencers_df['median_rts'] = influencers_df['user_id'].apply(lambda x: calc_median_retweets(x))"
      ],
      "execution_count": 19,
      "outputs": [
        {
          "output_type": "stream",
          "text": [
            "/usr/local/lib/python3.6/dist-packages/numpy/core/fromnumeric.py:2957: RuntimeWarning: Mean of empty slice.\n",
            "  out=out, **kwargs)\n"
          ],
          "name": "stderr"
        }
      ]
    },
    {
      "metadata": {
        "id": "35abBVjAVTlf",
        "colab_type": "code",
        "outputId": "c116ceee-92d8-4503-f5a7-c56603ac43e7",
        "colab": {
          "base_uri": "https://localhost:8080/",
          "height": 204
        }
      },
      "cell_type": "code",
      "source": [
        "influencers_df.head()"
      ],
      "execution_count": 20,
      "outputs": [
        {
          "output_type": "execute_result",
          "data": {
            "text/html": [
              "<div>\n",
              "<style scoped>\n",
              "    .dataframe tbody tr th:only-of-type {\n",
              "        vertical-align: middle;\n",
              "    }\n",
              "\n",
              "    .dataframe tbody tr th {\n",
              "        vertical-align: top;\n",
              "    }\n",
              "\n",
              "    .dataframe thead th {\n",
              "        text-align: right;\n",
              "    }\n",
              "</style>\n",
              "<table border=\"1\" class=\"dataframe\">\n",
              "  <thead>\n",
              "    <tr style=\"text-align: right;\">\n",
              "      <th></th>\n",
              "      <th>user_id</th>\n",
              "      <th>screen_name</th>\n",
              "      <th>bio</th>\n",
              "      <th>followers</th>\n",
              "      <th>median_favs</th>\n",
              "      <th>median_rts</th>\n",
              "    </tr>\n",
              "  </thead>\n",
              "  <tbody>\n",
              "    <tr>\n",
              "      <th>0</th>\n",
              "      <td>411194625</td>\n",
              "      <td>RBraceySherman</td>\n",
              "      <td>Black Feminist • 👩🏽‍💻 @AbortionFunds @Abortion...</td>\n",
              "      <td>16758</td>\n",
              "      <td>11.5</td>\n",
              "      <td>2.0</td>\n",
              "    </tr>\n",
              "    <tr>\n",
              "      <th>1</th>\n",
              "      <td>272191896</td>\n",
              "      <td>SarahEMcBride</td>\n",
              "      <td>Author of Tomorrow Will Be Different, Nat'l Pr...</td>\n",
              "      <td>46910</td>\n",
              "      <td>25.5</td>\n",
              "      <td>2.0</td>\n",
              "    </tr>\n",
              "    <tr>\n",
              "      <th>2</th>\n",
              "      <td>271725689</td>\n",
              "      <td>iamsambee</td>\n",
              "      <td>Alleged humorist.</td>\n",
              "      <td>514590</td>\n",
              "      <td>411.0</td>\n",
              "      <td>44.0</td>\n",
              "    </tr>\n",
              "    <tr>\n",
              "      <th>3</th>\n",
              "      <td>267915933</td>\n",
              "      <td>feministabulous</td>\n",
              "      <td>host of vox media’s consider it | you can pre-...</td>\n",
              "      <td>138475</td>\n",
              "      <td>6.0</td>\n",
              "      <td>0.0</td>\n",
              "    </tr>\n",
              "    <tr>\n",
              "      <th>4</th>\n",
              "      <td>260959284</td>\n",
              "      <td>KathaPollitt</td>\n",
              "      <td>Politics, poetry, feminism, books, life.  New ...</td>\n",
              "      <td>20142</td>\n",
              "      <td>2.0</td>\n",
              "      <td>0.0</td>\n",
              "    </tr>\n",
              "  </tbody>\n",
              "</table>\n",
              "</div>"
            ],
            "text/plain": [
              "     user_id      screen_name  \\\n",
              "0  411194625   RBraceySherman   \n",
              "1  272191896    SarahEMcBride   \n",
              "2  271725689        iamsambee   \n",
              "3  267915933  feministabulous   \n",
              "4  260959284     KathaPollitt   \n",
              "\n",
              "                                                 bio  followers  median_favs  \\\n",
              "0  Black Feminist • 👩🏽‍💻 @AbortionFunds @Abortion...      16758         11.5   \n",
              "1  Author of Tomorrow Will Be Different, Nat'l Pr...      46910         25.5   \n",
              "2                                  Alleged humorist.     514590        411.0   \n",
              "3  host of vox media’s consider it | you can pre-...     138475          6.0   \n",
              "4  Politics, poetry, feminism, books, life.  New ...      20142          2.0   \n",
              "\n",
              "   median_rts  \n",
              "0         2.0  \n",
              "1         2.0  \n",
              "2        44.0  \n",
              "3         0.0  \n",
              "4         0.0  "
            ]
          },
          "metadata": {
            "tags": []
          },
          "execution_count": 20
        }
      ]
    },
    {
      "metadata": {
        "id": "rAtWyt4KKf7e",
        "colab_type": "text"
      },
      "cell_type": "markdown",
      "source": [
        "We've likely got a notification above for a RuntimeWarning. This is numpy trying to take the median of of an empty array, that is, accounts that have never tweeted. Those accounts are visbile in the data as they have nan values under median_favs and/or median_rts. We can check to see if any exist using a heatmap for null values. "
      ]
    },
    {
      "metadata": {
        "id": "4pgOyK1p3nt1",
        "colab_type": "code",
        "outputId": "cf906838-a211-49c9-c487-ffc8341fc107",
        "colab": {
          "base_uri": "https://localhost:8080/",
          "height": 286
        }
      },
      "cell_type": "code",
      "source": [
        "sns.heatmap(influencers_df.isnull())"
      ],
      "execution_count": 21,
      "outputs": [
        {
          "output_type": "execute_result",
          "data": {
            "text/plain": [
              "<matplotlib.axes._subplots.AxesSubplot at 0x7f336695c7f0>"
            ]
          },
          "metadata": {
            "tags": []
          },
          "execution_count": 21
        },
        {
          "output_type": "display_data",
          "data": {
            "image/png": "[encoded data removed]",
            "text/plain": [
              "<Figure size 432x288 with 2 Axes>"
            ]
          },
          "metadata": {
            "tags": []
          }
        }
      ]
    },
    {
      "metadata": {
        "id": "naaOwkn_bVBW",
        "colab_type": "text"
      },
      "cell_type": "markdown",
      "source": [
        "Since there are nulls, we'll remove those and be left with a clean dataset. Creating a heatmap again confirms this. "
      ]
    },
    {
      "metadata": {
        "id": "nWKLf31ubZ2g",
        "colab_type": "code",
        "outputId": "527e064a-3da0-4655-ba93-b87df1110fda",
        "colab": {
          "base_uri": "https://localhost:8080/",
          "height": 286
        }
      },
      "cell_type": "code",
      "source": [
        "influencers_df = influencers_df.loc[~influencers_df['median_favs'].isnull()]\n",
        "sns.heatmap(influencers_df.isnull())"
      ],
      "execution_count": 22,
      "outputs": [
        {
          "output_type": "execute_result",
          "data": {
            "text/plain": [
              "<matplotlib.axes._subplots.AxesSubplot at 0x7f3363477860>"
            ]
          },
          "metadata": {
            "tags": []
          },
          "execution_count": 22
        },
        {
          "output_type": "display_data",
          "data": {
            "image/png": "[encoded data removed]",
            "text/plain": [
              "<Figure size 432x288 with 2 Axes>"
            ]
          },
          "metadata": {
            "tags": []
          }
        }
      ]
    },
    {
      "metadata": {
        "id": "ShXhMYlYcUYi",
        "colab_type": "text"
      },
      "cell_type": "markdown",
      "source": [
        "Now, to create some kind of engagement metric. \n",
        "\n",
        "Firstly, we should remove accounts that are not often interacted with, that is, where media favs == 0. Also since the way we're crowdsourcing this data is highly subjective, we should set a low cutoff for follower count. We'll make this 1000. \n",
        "\n",
        "Secondle, we need a solid proxy for engagement. We can use the mean of median_favs / # of followers and median_rts / # of followers, so we'll create that column now. The resulting array features mostly small numbers which are difficult to compare so we'll also standardize the column. "
      ]
    },
    {
      "metadata": {
        "id": "7dhQWmxuk2rk",
        "colab_type": "code",
        "colab": {}
      },
      "cell_type": "code",
      "source": [
        "def remove_low_engagement_accounts(df):\n",
        "    \n",
        "    working_df = df.copy()\n",
        "    \n",
        "    working_df = working_df.loc[(working_df['median_favs'] > 0) &\n",
        "                                (working_df['followers'] >= 1000)]\n",
        "    \n",
        "    return working_df\n",
        "\n",
        "influencers_df = remove_low_engagement_accounts(influencers_df)"
      ],
      "execution_count": 0,
      "outputs": []
    },
    {
      "metadata": {
        "id": "GGuRoEPkbhOY",
        "colab_type": "code",
        "colab": {}
      },
      "cell_type": "code",
      "source": [
        "def create_engagement_metric(df):\n",
        "      \n",
        "    working_df = df.copy()\n",
        "    \n",
        "    from sklearn.preprocessing import Normalizer\n",
        "    # Favorites\n",
        "    fav_eng_array = df['median_favs'] / df['followers']\n",
        "    scaler = Normalizer().fit(fav_eng_array.values.reshape(-1, 1))\n",
        "    scaled_favs = scaler.transform(fav_eng_array.values.reshape(-1, 1))\n",
        "    \n",
        "    # Retweets\n",
        "    rt_eng_array = df['median_favs'] / df['followers']\n",
        "    scaler = Normalizer().fit(rt_eng_array.values.reshape(-1, 1))\n",
        "    scaled_rts = scaler.transform(rt_eng_array.values.reshape(-1, 1))\n",
        "    \n",
        "    mean_eng = (scaled_favs + scaled_rts) / 2\n",
        "    working_df['engagement'] = mean_eng\n",
        "    \n",
        "    return working_df\n",
        "                                                \n",
        "\n",
        "influencers_df = create_engagement_metric(influencers_df)"
      ],
      "execution_count": 0,
      "outputs": []
    },
    {
      "metadata": {
        "id": "2h3t57kgFUwV",
        "colab_type": "code",
        "outputId": "0c105931-2e6a-47fb-8c08-e6a753ee1a7d",
        "colab": {
          "base_uri": "https://localhost:8080/",
          "height": 204
        }
      },
      "cell_type": "code",
      "source": [
        "influencers_df.sort_values('followers', ascending=False).head()"
      ],
      "execution_count": 25,
      "outputs": [
        {
          "output_type": "execute_result",
          "data": {
            "text/html": [
              "<div>\n",
              "<style scoped>\n",
              "    .dataframe tbody tr th:only-of-type {\n",
              "        vertical-align: middle;\n",
              "    }\n",
              "\n",
              "    .dataframe tbody tr th {\n",
              "        vertical-align: top;\n",
              "    }\n",
              "\n",
              "    .dataframe thead th {\n",
              "        text-align: right;\n",
              "    }\n",
              "</style>\n",
              "<table border=\"1\" class=\"dataframe\">\n",
              "  <thead>\n",
              "    <tr style=\"text-align: right;\">\n",
              "      <th></th>\n",
              "      <th>user_id</th>\n",
              "      <th>screen_name</th>\n",
              "      <th>bio</th>\n",
              "      <th>followers</th>\n",
              "      <th>median_favs</th>\n",
              "      <th>median_rts</th>\n",
              "      <th>engagement</th>\n",
              "    </tr>\n",
              "  </thead>\n",
              "  <tbody>\n",
              "    <tr>\n",
              "      <th>97</th>\n",
              "      <td>44409004</td>\n",
              "      <td>shakira</td>\n",
              "      <td>Shakira NADA https://t.co/50Yl0h1Xkh</td>\n",
              "      <td>51007100</td>\n",
              "      <td>5423.5</td>\n",
              "      <td>624.5</td>\n",
              "      <td>1.0</td>\n",
              "    </tr>\n",
              "    <tr>\n",
              "      <th>88</th>\n",
              "      <td>115485051</td>\n",
              "      <td>ConanOBrien</td>\n",
              "      <td>The voice of the people. Sorry, people.</td>\n",
              "      <td>28466267</td>\n",
              "      <td>10531.0</td>\n",
              "      <td>673.0</td>\n",
              "      <td>1.0</td>\n",
              "    </tr>\n",
              "    <tr>\n",
              "      <th>99</th>\n",
              "      <td>32959253</td>\n",
              "      <td>khloekardashian</td>\n",
              "      <td></td>\n",
              "      <td>26718338</td>\n",
              "      <td>24.5</td>\n",
              "      <td>2.0</td>\n",
              "      <td>1.0</td>\n",
              "    </tr>\n",
              "    <tr>\n",
              "      <th>84</th>\n",
              "      <td>268439864</td>\n",
              "      <td>xtina</td>\n",
              "      <td>#TheXperience LIVE in Vegas starting May 31st ...</td>\n",
              "      <td>16987526</td>\n",
              "      <td>6260.0</td>\n",
              "      <td>992.5</td>\n",
              "      <td>1.0</td>\n",
              "    </tr>\n",
              "    <tr>\n",
              "      <th>98</th>\n",
              "      <td>40908929</td>\n",
              "      <td>Usher</td>\n",
              "      <td></td>\n",
              "      <td>12373152</td>\n",
              "      <td>1786.0</td>\n",
              "      <td>238.0</td>\n",
              "      <td>1.0</td>\n",
              "    </tr>\n",
              "  </tbody>\n",
              "</table>\n",
              "</div>"
            ],
            "text/plain": [
              "      user_id      screen_name  \\\n",
              "97   44409004          shakira   \n",
              "88  115485051      ConanOBrien   \n",
              "99   32959253  khloekardashian   \n",
              "84  268439864            xtina   \n",
              "98   40908929            Usher   \n",
              "\n",
              "                                                  bio  followers  median_favs  \\\n",
              "97               Shakira NADA https://t.co/50Yl0h1Xkh   51007100       5423.5   \n",
              "88            The voice of the people. Sorry, people.   28466267      10531.0   \n",
              "99                                                      26718338         24.5   \n",
              "84  #TheXperience LIVE in Vegas starting May 31st ...   16987526       6260.0   \n",
              "98                                                      12373152       1786.0   \n",
              "\n",
              "    median_rts  engagement  \n",
              "97       624.5         1.0  \n",
              "88       673.0         1.0  \n",
              "99         2.0         1.0  \n",
              "84       992.5         1.0  \n",
              "98       238.0         1.0  "
            ]
          },
          "metadata": {
            "tags": []
          },
          "execution_count": 25
        }
      ]
    },
    {
      "metadata": {
        "id": "CkBno9kl8kWs",
        "colab_type": "text"
      },
      "cell_type": "markdown",
      "source": [
        "So that's a start on scraping some \"crowdsourced\" data from Twitter. From here it would be easy enough to generate some business level insights, but we'll save that for another notebook to keep this exercise concise. \n",
        "\n",
        "The next step for this project is to translate this \"notebook\" code into a production friendly .py file. "
      ]
    }
  ]
}